{
 "cells": [
  {
   "cell_type": "markdown",
   "metadata": {},
   "source": [
    "# Part 1: Data Preprocessing"
   ]
  },
  {
   "cell_type": "code",
   "execution_count": 1,
   "metadata": {},
   "outputs": [],
   "source": [
    "\n",
    "import numpy as np\n",
    "import pandas as pd\n",
    "import matplotlib.pyplot as plt"
   ]
  },
  {
   "cell_type": "code",
   "execution_count": 2,
   "metadata": {},
   "outputs": [],
   "source": [
    "# Importing Dataset\n",
    "dataset = pd.read_csv('creditcard_1.csv')\n",
    "X = dataset.iloc[:, 0:30].values\n",
    "y = dataset.iloc[:, 30].values"
   ]
  },
  {
   "cell_type": "code",
   "execution_count": 4,
   "metadata": {},
   "outputs": [],
   "source": [
    "# Splitting the dataset into Training Set and Testing Set\n",
    "from sklearn.model_selection import train_test_split\n",
    "X_train, X_test, y_train, y_test = train_test_split(X, y, test_size = 0.3, random_state = 0)"
   ]
  },
  {
   "cell_type": "code",
   "execution_count": 5,
   "metadata": {},
   "outputs": [],
   "source": [
    "# Feature Scaling\n",
    "from sklearn.preprocessing import StandardScaler\n",
    "sc = StandardScaler()\n",
    "X_train = sc.fit_transform(X_train)\n",
    "X_test = sc.fit_transform(X_test)"
   ]
  },
  {
   "cell_type": "markdown",
   "metadata": {},
   "source": [
    "# Make an ANN"
   ]
  },
  {
   "cell_type": "code",
   "execution_count": 6,
   "metadata": {},
   "outputs": [
    {
     "name": "stderr",
     "output_type": "stream",
     "text": [
      "Using TensorFlow backend.\n",
      "C:\\Users\\dell\\Anaconda3\\lib\\site-packages\\tensorflow\\python\\framework\\dtypes.py:526: FutureWarning: Passing (type, 1) or '1type' as a synonym of type is deprecated; in a future version of numpy, it will be understood as (type, (1,)) / '(1,)type'.\n",
      "  _np_qint8 = np.dtype([(\"qint8\", np.int8, 1)])\n",
      "C:\\Users\\dell\\Anaconda3\\lib\\site-packages\\tensorflow\\python\\framework\\dtypes.py:527: FutureWarning: Passing (type, 1) or '1type' as a synonym of type is deprecated; in a future version of numpy, it will be understood as (type, (1,)) / '(1,)type'.\n",
      "  _np_quint8 = np.dtype([(\"quint8\", np.uint8, 1)])\n",
      "C:\\Users\\dell\\Anaconda3\\lib\\site-packages\\tensorflow\\python\\framework\\dtypes.py:528: FutureWarning: Passing (type, 1) or '1type' as a synonym of type is deprecated; in a future version of numpy, it will be understood as (type, (1,)) / '(1,)type'.\n",
      "  _np_qint16 = np.dtype([(\"qint16\", np.int16, 1)])\n",
      "C:\\Users\\dell\\Anaconda3\\lib\\site-packages\\tensorflow\\python\\framework\\dtypes.py:529: FutureWarning: Passing (type, 1) or '1type' as a synonym of type is deprecated; in a future version of numpy, it will be understood as (type, (1,)) / '(1,)type'.\n",
      "  _np_quint16 = np.dtype([(\"quint16\", np.uint16, 1)])\n",
      "C:\\Users\\dell\\Anaconda3\\lib\\site-packages\\tensorflow\\python\\framework\\dtypes.py:530: FutureWarning: Passing (type, 1) or '1type' as a synonym of type is deprecated; in a future version of numpy, it will be understood as (type, (1,)) / '(1,)type'.\n",
      "  _np_qint32 = np.dtype([(\"qint32\", np.int32, 1)])\n",
      "C:\\Users\\dell\\Anaconda3\\lib\\site-packages\\tensorflow\\python\\framework\\dtypes.py:535: FutureWarning: Passing (type, 1) or '1type' as a synonym of type is deprecated; in a future version of numpy, it will be understood as (type, (1,)) / '(1,)type'.\n",
      "  np_resource = np.dtype([(\"resource\", np.ubyte, 1)])\n"
     ]
    }
   ],
   "source": [
    "# Import the Keras libraries and packages\n",
    "import keras\n",
    "from keras.models import Sequential\n",
    "from keras.layers import Dense\n",
    "from keras.layers import Dropout\n"
   ]
  },
  {
   "cell_type": "code",
   "execution_count": 7,
   "metadata": {},
   "outputs": [],
   "source": [
    "# Initializing the ANN\n",
    "classifier = Sequential()"
   ]
  },
  {
   "cell_type": "code",
   "execution_count": 8,
   "metadata": {},
   "outputs": [
    {
     "name": "stderr",
     "output_type": "stream",
     "text": [
      "C:\\Users\\dell\\Anaconda3\\lib\\site-packages\\ipykernel_launcher.py:2: UserWarning: Update your `Dense` call to the Keras 2 API: `Dense(activation=\"relu\", input_dim=30, units=16, kernel_initializer=\"uniform\")`\n",
      "  \n"
     ]
    },
    {
     "name": "stdout",
     "output_type": "stream",
     "text": [
      "WARNING:tensorflow:From C:\\Users\\dell\\Anaconda3\\lib\\site-packages\\tensorflow\\python\\framework\\op_def_library.py:263: colocate_with (from tensorflow.python.framework.ops) is deprecated and will be removed in a future version.\n",
      "Instructions for updating:\n",
      "Colocations handled automatically by placer.\n",
      "WARNING:tensorflow:From C:\\Users\\dell\\Anaconda3\\lib\\site-packages\\keras\\backend\\tensorflow_backend.py:3135: calling dropout (from tensorflow.python.ops.nn_ops) with keep_prob is deprecated and will be removed in a future version.\n",
      "Instructions for updating:\n",
      "Please use `rate` instead of `keep_prob`. Rate should be set to `rate = 1 - keep_prob`.\n"
     ]
    },
    {
     "name": "stderr",
     "output_type": "stream",
     "text": [
      "C:\\Users\\dell\\Anaconda3\\lib\\site-packages\\ipykernel_launcher.py:3: UserWarning: Update your `Dropout` call to the Keras 2 API: `Dropout(rate=0.1)`\n",
      "  This is separate from the ipykernel package so we can avoid doing imports until\n",
      "C:\\Users\\dell\\Anaconda3\\lib\\site-packages\\ipykernel_launcher.py:6: UserWarning: Update your `Dense` call to the Keras 2 API: `Dense(activation=\"relu\", units=16, kernel_initializer=\"uniform\")`\n",
      "  \n",
      "C:\\Users\\dell\\Anaconda3\\lib\\site-packages\\ipykernel_launcher.py:7: UserWarning: Update your `Dropout` call to the Keras 2 API: `Dropout(rate=0.1)`\n",
      "  import sys\n",
      "C:\\Users\\dell\\Anaconda3\\lib\\site-packages\\ipykernel_launcher.py:10: UserWarning: Update your `Dense` call to the Keras 2 API: `Dense(activation=\"relu\", units=16, kernel_initializer=\"uniform\")`\n",
      "  # Remove the CWD from sys.path while we load stuff.\n",
      "C:\\Users\\dell\\Anaconda3\\lib\\site-packages\\ipykernel_launcher.py:11: UserWarning: Update your `Dropout` call to the Keras 2 API: `Dropout(rate=0.1)`\n",
      "  # This is added back by InteractiveShellApp.init_path()\n",
      "C:\\Users\\dell\\Anaconda3\\lib\\site-packages\\ipykernel_launcher.py:14: UserWarning: Update your `Dense` call to the Keras 2 API: `Dense(activation=\"sigmoid\", units=1, kernel_initializer=\"uniform\")`\n",
      "  \n"
     ]
    }
   ],
   "source": [
    "# Adding the input layer and first hidden layer wih Dropout\n",
    "classifier.add(Dense(output_dim = round(15.5), init = 'uniform', activation = 'relu', input_dim = 30 ))\n",
    "classifier.add(Dropout(p = 0.1 ))\n",
    "\n",
    "# Adding 2nd hidden layer\n",
    "classifier.add(Dense(output_dim = round(15.5), init = 'uniform', activation = 'relu'))\n",
    "classifier.add(Dropout(p = 0.1 ))\n",
    "\n",
    "# Adding 3nd hidden layer\n",
    "classifier.add(Dense(output_dim = round(15.5), init = 'uniform', activation = 'relu'))\n",
    "classifier.add(Dropout(p = 0.1 ))\n",
    "\n",
    "# Adding the ouput layer\n",
    "classifier.add(Dense(output_dim = 1, init = 'uniform', activation = 'sigmoid'))"
   ]
  },
  {
   "cell_type": "code",
   "execution_count": 9,
   "metadata": {},
   "outputs": [],
   "source": [
    "# Compling the ANN\n",
    "classifier.compile(optimizer = 'adam', loss = 'binary_crossentropy', metrics = ['accuracy'])"
   ]
  },
  {
   "cell_type": "code",
   "execution_count": 11,
   "metadata": {},
   "outputs": [
    {
     "name": "stdout",
     "output_type": "stream",
     "text": [
      "Epoch 1/25\n",
      "199364/199364 [==============================] - 12s 62us/step - loss: 0.0025 - acc: 0.9995\n",
      "Epoch 2/25\n",
      "199364/199364 [==============================] - 12s 61us/step - loss: 0.0026 - acc: 0.9995\n",
      "Epoch 3/25\n",
      "199364/199364 [==============================] - 12s 60us/step - loss: 0.0024 - acc: 0.9995\n",
      "Epoch 4/25\n",
      "199364/199364 [==============================] - 13s 63us/step - loss: 0.0024 - acc: 0.9995\n",
      "Epoch 5/25\n",
      "199364/199364 [==============================] - 12s 61us/step - loss: 0.0023 - acc: 0.9995\n",
      "Epoch 6/25\n",
      "199364/199364 [==============================] - 13s 64us/step - loss: 0.0024 - acc: 0.9995\n",
      "Epoch 7/25\n",
      "199364/199364 [==============================] - 12s 60us/step - loss: 0.0024 - acc: 0.9995\n",
      "Epoch 8/25\n",
      "199364/199364 [==============================] - 12s 62us/step - loss: 0.0024 - acc: 0.9995\n",
      "Epoch 9/25\n",
      "199364/199364 [==============================] - 13s 66us/step - loss: 0.0025 - acc: 0.9994\n",
      "Epoch 10/25\n",
      "199364/199364 [==============================] - 12s 62us/step - loss: 0.0023 - acc: 0.9995\n",
      "Epoch 11/25\n",
      "199364/199364 [==============================] - 12s 62us/step - loss: 0.0023 - acc: 0.9995\n",
      "Epoch 12/25\n",
      "199364/199364 [==============================] - 12s 60us/step - loss: 0.0023 - acc: 0.9995\n",
      "Epoch 13/25\n",
      "199364/199364 [==============================] - 12s 61us/step - loss: 0.0024 - acc: 0.9995\n",
      "Epoch 14/25\n",
      "199364/199364 [==============================] - 12s 61us/step - loss: 0.0024 - acc: 0.9995\n",
      "Epoch 15/25\n",
      "199364/199364 [==============================] - 12s 61us/step - loss: 0.0023 - acc: 0.9995\n",
      "Epoch 16/25\n",
      "199364/199364 [==============================] - 12s 60us/step - loss: 0.0024 - acc: 0.9995\n",
      "Epoch 17/25\n",
      "199364/199364 [==============================] - 12s 62us/step - loss: 0.0024 - acc: 0.9995\n",
      "Epoch 18/25\n",
      "199364/199364 [==============================] - 12s 62us/step - loss: 0.0025 - acc: 0.9995\n",
      "Epoch 19/25\n",
      "199364/199364 [==============================] - 12s 62us/step - loss: 0.0024 - acc: 0.9995\n",
      "Epoch 20/25\n",
      "199364/199364 [==============================] - 12s 59us/step - loss: 0.0022 - acc: 0.9995\n",
      "Epoch 21/25\n",
      "199364/199364 [==============================] - 12s 62us/step - loss: 0.0023 - acc: 0.9995\n",
      "Epoch 22/25\n",
      "199364/199364 [==============================] - 12s 61us/step - loss: 0.0024 - acc: 0.9995\n",
      "Epoch 23/25\n",
      "199364/199364 [==============================] - 11s 58us/step - loss: 0.0022 - acc: 0.9995\n",
      "Epoch 24/25\n",
      "199364/199364 [==============================] - 12s 59us/step - loss: 0.0023 - acc: 0.9995\n",
      "Epoch 25/25\n",
      "199364/199364 [==============================] - 12s 62us/step - loss: 0.0023 - acc: 0.9995\n"
     ]
    },
    {
     "data": {
      "text/plain": [
       "<keras.callbacks.History at 0x1e94e7ddb38>"
      ]
     },
     "execution_count": 11,
     "metadata": {},
     "output_type": "execute_result"
    }
   ],
   "source": [
    "# Fitting the ANN to the Training set\n",
    "classifier.fit(X_train, y_train, batch_size = 32, nb_epoch = 25)"
   ]
  },
  {
   "cell_type": "code",
   "execution_count": 12,
   "metadata": {},
   "outputs": [],
   "source": [
    "# Part 3: Making the predictions and evaluating the model\n",
    "y_pred = classifier.predict(X_test)\n",
    "y_pred = (y_pred > 0.5)"
   ]
  },
  {
   "cell_type": "code",
   "execution_count": 13,
   "metadata": {},
   "outputs": [
    {
     "data": {
      "text/plain": [
       "array([[False],\n",
       "       [False],\n",
       "       [False],\n",
       "       ...,\n",
       "       [False],\n",
       "       [False],\n",
       "       [False]])"
      ]
     },
     "execution_count": 13,
     "metadata": {},
     "output_type": "execute_result"
    }
   ],
   "source": [
    "y_pred"
   ]
  },
  {
   "cell_type": "code",
   "execution_count": 14,
   "metadata": {},
   "outputs": [],
   "source": [
    "# Making the confusion metrix\n",
    "from sklearn.metrics import confusion_matrix\n",
    "cm = confusion_matrix(y_test,y_pred)"
   ]
  },
  {
   "cell_type": "code",
   "execution_count": 15,
   "metadata": {},
   "outputs": [
    {
     "data": {
      "text/plain": [
       "array([[85276,    20],\n",
       "       [   32,   115]], dtype=int64)"
      ]
     },
     "execution_count": 15,
     "metadata": {},
     "output_type": "execute_result"
    }
   ],
   "source": [
    "cm"
   ]
  },
  {
   "cell_type": "code",
   "execution_count": 16,
   "metadata": {},
   "outputs": [],
   "source": [
    "new_prediction = classifier.predict(sc.transform(np.array([[172792\n",
    ", -0.533412522, -0.189733337, 0.703337367, -0.50627124, -0.012545679, -0.649616686,\n",
    " 1.577006254, -0.414650408, 0.486179505, -0.915426649, -1.040458335, -0.031513054,\n",
    "-0.188092901, -0.08431647, 0.041333455, -0.302620086, -0.660376645, 0.167429934,\n",
    "-0.256116871, 0.382948105, 0.261057331, 0.643078438, 0.376777014,0.008797379,\n",
    "-0.473648704, -0.818267121, -0.002415309, 0.013648914, 217 ]])))\n",
    "new_prediction = (new_prediction > 0.5)"
   ]
  },
  {
   "cell_type": "code",
   "execution_count": 18,
   "metadata": {},
   "outputs": [
    {
     "name": "stderr",
     "output_type": "stream",
     "text": [
      "C:\\Users\\dell\\Anaconda3\\lib\\site-packages\\ipykernel_launcher.py:10: UserWarning: Update your `Dense` call to the Keras 2 API: `Dense(activation=\"relu\", input_dim=30, units=16, kernel_initializer=\"uniform\")`\n",
      "  # Remove the CWD from sys.path while we load stuff.\n",
      "C:\\Users\\dell\\Anaconda3\\lib\\site-packages\\ipykernel_launcher.py:11: UserWarning: Update your `Dense` call to the Keras 2 API: `Dense(activation=\"relu\", units=16, kernel_initializer=\"uniform\")`\n",
      "  # This is added back by InteractiveShellApp.init_path()\n",
      "C:\\Users\\dell\\Anaconda3\\lib\\site-packages\\ipykernel_launcher.py:12: UserWarning: Update your `Dense` call to the Keras 2 API: `Dense(activation=\"sigmoid\", units=1, kernel_initializer=\"uniform\")`\n",
      "  if sys.path[0] == '':\n"
     ]
    },
    {
     "name": "stdout",
     "output_type": "stream",
     "text": [
      "Epoch 1/1\n",
      "179427/179427 [==============================] - 12s 69us/step - loss: 0.0159 - acc: 0.9983\n",
      "19937/19937 [==============================] - 1s 41us/step\n",
      "Epoch 1/1\n",
      "179427/179427 [==============================] - 11s 59us/step - loss: 0.0164 - acc: 0.9984\n",
      "19937/19937 [==============================] - 1s 36us/step\n",
      "Epoch 1/1\n",
      "179427/179427 [==============================] - 10s 53us/step - loss: 0.0154 - acc: 0.9986\n",
      "19937/19937 [==============================] - 1s 34us/step\n",
      "Epoch 1/1\n",
      "179427/179427 [==============================] - 11s 59us/step - loss: 0.0155 - acc: 0.9983\n",
      "19937/19937 [==============================] - 1s 33us/step\n",
      "Epoch 1/1\n",
      "179428/179428 [==============================] - 11s 59us/step - loss: 0.0164 - acc: 0.9985\n",
      "19936/19936 [==============================] - 1s 37us/step\n",
      "Epoch 1/1\n",
      "179428/179428 [==============================] - 12s 66us/step - loss: 0.0172 - acc: 0.9981\n",
      "19936/19936 [==============================] - 1s 47us/step\n",
      "Epoch 1/1\n",
      "179428/179428 [==============================] - 13s 71us/step - loss: 0.0155 - acc: 0.9982\n",
      "19936/19936 [==============================] - 1s 42us/step\n",
      "Epoch 1/1\n",
      "179428/179428 [==============================] - 10s 56us/step - loss: 0.0165 - acc: 0.9984\n",
      "19936/19936 [==============================] - 1s 41us/step\n",
      "Epoch 1/1\n",
      "179428/179428 [==============================] - 11s 59us/step - loss: 0.0157 - acc: 0.9986\n",
      "19936/19936 [==============================] - 1s 40us/step\n",
      "Epoch 1/1\n",
      "179428/179428 [==============================] - 12s 67us/step - loss: 0.0148 - acc: 0.9987\n",
      "19936/19936 [==============================] - 1s 44us/step\n"
     ]
    }
   ],
   "source": [
    "# Part 4- Evaluating,Improving and Tuning the ANN\n",
    "\n",
    "# Evaluating the ANN\n",
    "from keras.wrappers.scikit_learn import KerasClassifier\n",
    "from sklearn.model_selection import cross_val_score\n",
    "from keras.models import Sequential\n",
    "from keras.layers import Dense\n",
    "def build_classifier():\n",
    "    classifier = Sequential()\n",
    "    classifier.add(Dense(output_dim = round(15.5), init = 'uniform', activation = 'relu', input_dim = 30 ))\n",
    "    classifier.add(Dense(output_dim = round(15.5), init = 'uniform', activation = 'relu'))\n",
    "    classifier.add(Dense(output_dim = 1, init = 'uniform', activation = 'sigmoid'))\n",
    "    classifier.compile(optimizer = 'adam', loss = 'binary_crossentropy', metrics = ['accuracy'])\n",
    "    return classifier\n",
    "classifier = KerasClassifier(build_fn = build_classifier, batch_size = 32, nb_epoch = 10)\n",
    "accuracies = cross_val_score(estimator = classifier, X = X_train, y = y_train, cv = 10, n_jobs = 1)\n",
    "mean = accuracies.mean()\n",
    "variance = accuracies.std()  "
   ]
  },
  {
   "cell_type": "code",
   "execution_count": 19,
   "metadata": {},
   "outputs": [
    {
     "name": "stderr",
     "output_type": "stream",
     "text": [
      "C:\\Users\\dell\\Anaconda3\\lib\\site-packages\\ipykernel_launcher.py:8: UserWarning: Update your `Dense` call to the Keras 2 API: `Dense(activation=\"relu\", input_dim=30, units=16, kernel_initializer=\"uniform\")`\n",
      "  \n",
      "C:\\Users\\dell\\Anaconda3\\lib\\site-packages\\ipykernel_launcher.py:9: UserWarning: Update your `Dense` call to the Keras 2 API: `Dense(activation=\"relu\", units=16, kernel_initializer=\"uniform\")`\n",
      "  if __name__ == '__main__':\n",
      "C:\\Users\\dell\\Anaconda3\\lib\\site-packages\\ipykernel_launcher.py:10: UserWarning: Update your `Dense` call to the Keras 2 API: `Dense(activation=\"sigmoid\", units=1, kernel_initializer=\"uniform\")`\n",
      "  # Remove the CWD from sys.path while we load stuff.\n"
     ]
    },
    {
     "name": "stdout",
     "output_type": "stream",
     "text": [
      "Epoch 1/1\n",
      "179427/179427 [==============================] - 14s 75us/step - loss: 0.0128 - acc: 0.9985\n",
      "Epoch 1/1\n",
      "179427/179427 [==============================] - 13s 75us/step - loss: 0.0139 - acc: 0.9983\n",
      "Epoch 1/1\n",
      "179427/179427 [==============================] - 14s 76us/step - loss: 0.0125 - acc: 0.9988\n",
      "Epoch 1/1\n",
      "179427/179427 [==============================] - 14s 76us/step - loss: 0.0141 - acc: 0.9987\n",
      "Epoch 1/1\n",
      "179428/179428 [==============================] - 14s 78us/step - loss: 0.0149 - acc: 0.9982\n",
      "Epoch 1/1\n",
      "179428/179428 [==============================] - 14s 79us/step - loss: 0.0132 - acc: 0.9988\n",
      "Epoch 1/1\n",
      "179428/179428 [==============================] - 15s 85us/step - loss: 0.0138 - acc: 0.9985\n",
      "Epoch 1/1\n",
      "179428/179428 [==============================] - 16s 90us/step - loss: 0.0137 - acc: 0.9984\n",
      "Epoch 1/1\n",
      "179428/179428 [==============================] - 16s 88us/step - loss: 0.0137 - acc: 0.9985\n",
      "Epoch 1/1\n",
      "179428/179428 [==============================] - 15s 84us/step - loss: 0.0141 - acc: 0.9987\n",
      "Epoch 1/1\n",
      "179427/179427 [==============================] - 15s 82us/step - loss: 0.0155 - acc: 0.9987\n",
      "Epoch 1/1\n",
      "179427/179427 [==============================] - 15s 84us/step - loss: 0.0160 - acc: 0.9987\n",
      "Epoch 1/1\n",
      "179427/179427 [==============================] - 15s 84us/step - loss: 0.0167 - acc: 0.9987\n",
      "Epoch 1/1\n",
      "179427/179427 [==============================] - 15s 84us/step - loss: 0.0154 - acc: 0.9987\n",
      "Epoch 1/1\n",
      "179428/179428 [==============================] - 15s 85us/step - loss: 0.0175 - acc: 0.9986\n",
      "Epoch 1/1\n",
      "179428/179428 [==============================] - 15s 85us/step - loss: 0.0162 - acc: 0.9987\n",
      "Epoch 1/1\n",
      "179428/179428 [==============================] - 16s 88us/step - loss: 0.0182 - acc: 0.9986\n",
      "Epoch 1/1\n",
      "179428/179428 [==============================] - 16s 90us/step - loss: 0.0170 - acc: 0.9986\n",
      "Epoch 1/1\n",
      "179428/179428 [==============================] - 16s 87us/step - loss: 0.0159 - acc: 0.9988\n",
      "Epoch 1/1\n",
      "179428/179428 [==============================] - 16s 87us/step - loss: 0.0165 - acc: 0.9987\n",
      "Epoch 1/1\n",
      "179427/179427 [==============================] - 16s 90us/step - loss: 0.0123 - acc: 0.9987\n",
      "Epoch 1/1\n",
      "179427/179427 [==============================] - 17s 94us/step - loss: 0.0138 - acc: 0.9983\n",
      "Epoch 1/1\n",
      "179427/179427 [==============================] - 17s 93us/step - loss: 0.0135 - acc: 0.9987\n",
      "Epoch 1/1\n",
      "179427/179427 [==============================] - 17s 93us/step - loss: 0.0129 - acc: 0.9987\n",
      "Epoch 1/1\n",
      "179428/179428 [==============================] - 17s 96us/step - loss: 0.0137 - acc: 0.9986\n",
      "Epoch 1/1\n",
      "179428/179428 [==============================] - 17s 95us/step - loss: 0.0138 - acc: 0.9983\n",
      "Epoch 1/1\n",
      "179428/179428 [==============================] - 17s 96us/step - loss: 0.0130 - acc: 0.9987\n",
      "Epoch 1/1\n",
      "179428/179428 [==============================] - 17s 97us/step - loss: 0.0140 - acc: 0.9982\n",
      "Epoch 1/1\n",
      "179428/179428 [==============================] - 18s 99us/step - loss: 0.0141 - acc: 0.9986\n",
      "Epoch 1/1\n",
      "179428/179428 [==============================] - 18s 100us/step - loss: 0.0143 - acc: 0.9983\n",
      "Epoch 1/1\n",
      "179427/179427 [==============================] - 17s 97us/step - loss: 0.0170 - acc: 0.9986\n",
      "Epoch 1/1\n",
      "179427/179427 [==============================] - 18s 100us/step - loss: 0.0165 - acc: 0.9987\n",
      "Epoch 1/1\n",
      "179427/179427 [==============================] - 18s 100us/step - loss: 0.0160 - acc: 0.9987\n",
      "Epoch 1/1\n",
      "179427/179427 [==============================] - 18s 101us/step - loss: 0.0170 - acc: 0.9986\n",
      "Epoch 1/1\n",
      "179428/179428 [==============================] - 18s 102us/step - loss: 0.0169 - acc: 0.9985\n",
      "Epoch 1/1\n",
      "179428/179428 [==============================] - 18s 102us/step - loss: 0.0156 - acc: 0.9986\n",
      "Epoch 1/1\n",
      "179428/179428 [==============================] - 18s 101us/step - loss: 0.0153 - acc: 0.9988\n",
      "Epoch 1/1\n",
      "179428/179428 [==============================] - 18s 102us/step - loss: 0.0172 - acc: 0.9986\n",
      "Epoch 1/1\n",
      "179428/179428 [==============================] - 19s 108us/step - loss: 0.0179 - acc: 0.9986\n",
      "Epoch 1/1\n",
      "179428/179428 [==============================] - 21s 116us/step - loss: 0.0161 - acc: 0.9987\n",
      "Epoch 1/1\n",
      "179427/179427 [==============================] - 16s 88us/step - loss: 0.0170 - acc: 0.9981\n",
      "Epoch 1/1\n",
      "179427/179427 [==============================] - 16s 88us/step - loss: 0.0182 - acc: 0.9981\n",
      "Epoch 1/1\n",
      "179427/179427 [==============================] - 16s 88us/step - loss: 0.0165 - acc: 0.9985\n",
      "Epoch 1/1\n",
      "179427/179427 [==============================] - 16s 89us/step - loss: 0.0150 - acc: 0.9983\n",
      "Epoch 1/1\n",
      "179428/179428 [==============================] - 16s 91us/step - loss: 0.0176 - acc: 0.9982\n",
      "Epoch 1/1\n",
      "179428/179428 [==============================] - 16s 91us/step - loss: 0.0165 - acc: 0.9985\n",
      "Epoch 1/1\n",
      "179428/179428 [==============================] - 16s 91us/step - loss: 0.0168 - acc: 0.9985\n",
      "Epoch 1/1\n",
      "179428/179428 [==============================] - 19s 103us/step - loss: 0.0160 - acc: 0.9985\n",
      "Epoch 1/1\n",
      "179428/179428 [==============================] - 22s 120us/step - loss: 0.0156 - acc: 0.9983\n",
      "Epoch 1/1\n",
      "179428/179428 [==============================] - 17s 95us/step - loss: 0.0171 - acc: 0.9985\n",
      "Epoch 1/1\n",
      "179427/179427 [==============================] - 16s 87us/step - loss: 0.0178 - acc: 0.9986\n",
      "Epoch 1/1\n",
      "179427/179427 [==============================] - 15s 85us/step - loss: 0.0179 - acc: 0.9986\n",
      "Epoch 1/1\n",
      "179427/179427 [==============================] - 16s 87us/step - loss: 0.0190 - acc: 0.9987\n",
      "Epoch 1/1\n",
      "179427/179427 [==============================] - 16s 87us/step - loss: 0.0195 - acc: 0.9986\n",
      "Epoch 1/1\n",
      "179428/179428 [==============================] - 16s 88us/step - loss: 0.0200 - acc: 0.9986\n",
      "Epoch 1/1\n",
      "179428/179428 [==============================] - 16s 90us/step - loss: 0.0174 - acc: 0.9987\n",
      "Epoch 1/1\n",
      "179428/179428 [==============================] - 16s 89us/step - loss: 0.0202 - acc: 0.9985\n",
      "Epoch 1/1\n",
      "179428/179428 [==============================] - 16s 89us/step - loss: 0.0179 - acc: 0.9986\n",
      "Epoch 1/1\n",
      "179428/179428 [==============================] - 16s 90us/step - loss: 0.0198 - acc: 0.9986\n",
      "Epoch 1/1\n",
      "179428/179428 [==============================] - 16s 90us/step - loss: 0.0173 - acc: 0.9986\n",
      "Epoch 1/1\n",
      "179427/179427 [==============================] - 17s 93us/step - loss: 0.0164 - acc: 0.9985\n",
      "Epoch 1/1\n",
      "179427/179427 [==============================] - 17s 97us/step - loss: 0.0156 - acc: 0.9987\n",
      "Epoch 1/1\n",
      "179427/179427 [==============================] - 17s 95us/step - loss: 0.0157 - acc: 0.9986\n",
      "Epoch 1/1\n",
      "179427/179427 [==============================] - 17s 95us/step - loss: 0.0161 - acc: 0.9982\n",
      "Epoch 1/1\n",
      "179428/179428 [==============================] - 20s 113us/step - loss: 0.0164 - acc: 0.9981\n",
      "Epoch 1/1\n",
      "179428/179428 [==============================] - 21s 115us/step - loss: 0.0170 - acc: 0.9981\n",
      "Epoch 1/1\n",
      "179428/179428 [==============================] - 26s 144us/step - loss: 0.0177 - acc: 0.9984\n",
      "Epoch 1/1\n",
      "179428/179428 [==============================] - 25s 137us/step - loss: 0.0174 - acc: 0.9981\n",
      "Epoch 1/1\n",
      "179428/179428 [==============================] - 25s 137us/step - loss: 0.0183 - acc: 0.9984\n",
      "Epoch 1/1\n",
      "179428/179428 [==============================] - 26s 146us/step - loss: 0.0173 - acc: 0.9980\n",
      "Epoch 1/1\n",
      "179427/179427 [==============================] - 20s 110us/step - loss: 0.0186 - acc: 0.9985\n",
      "Epoch 1/1\n",
      "179427/179427 [==============================] - 21s 117us/step - loss: 0.0198 - acc: 0.9985\n",
      "Epoch 1/1\n",
      "179427/179427 [==============================] - 19s 103us/step - loss: 0.0186 - acc: 0.9987\n",
      "Epoch 1/1\n",
      "179427/179427 [==============================] - 19s 103us/step - loss: 0.0191 - acc: 0.9986\n",
      "Epoch 1/1\n",
      "179428/179428 [==============================] - 18s 103us/step - loss: 0.0176 - acc: 0.9987\n",
      "Epoch 1/1\n",
      "179428/179428 [==============================] - 19s 105us/step - loss: 0.0182 - acc: 0.9987\n",
      "Epoch 1/1\n",
      "179428/179428 [==============================] - 19s 104us/step - loss: 0.0202 - acc: 0.9985\n",
      "Epoch 1/1\n",
      "179428/179428 [==============================] - 19s 107us/step - loss: 0.0182 - acc: 0.9986\n",
      "Epoch 1/1\n",
      "179428/179428 [==============================] - 19s 105us/step - loss: 0.0196 - acc: 0.9985\n",
      "Epoch 1/1\n",
      "179428/179428 [==============================] - 19s 107us/step - loss: 0.0185 - acc: 0.9986\n",
      "Epoch 1/1\n"
     ]
    },
    {
     "name": "stdout",
     "output_type": "stream",
     "text": [
      "199364/199364 [==============================] - 26s 130us/step - loss: 0.0135 - acc: 0.9987\n"
     ]
    }
   ],
   "source": [
    "# Tuning the ANN\n",
    "from keras.wrappers.scikit_learn import KerasClassifier\n",
    "from sklearn.model_selection import GridSearchCV\n",
    "from keras.models import Sequential\n",
    "from keras.layers import Dense\n",
    "def build_classifier(optimizer):\n",
    "    classifier = Sequential()\n",
    "    classifier.add(Dense(output_dim = round(15.5), init = 'uniform', activation = 'relu', input_dim = 30 ))\n",
    "    classifier.add(Dense(output_dim = round(15.5), init = 'uniform', activation = 'relu'))\n",
    "    classifier.add(Dense(output_dim = 1, init = 'uniform', activation = 'sigmoid'))\n",
    "    classifier.compile(optimizer = optimizer, loss = 'binary_crossentropy', metrics = ['accuracy'])\n",
    "    return classifier\n",
    "classifier = KerasClassifier(build_fn = build_classifier )\n",
    "parameters = {'batch_size' : [25,32],\n",
    "              'nb_epoch' : [10,20],\n",
    "              'optimizer' : ['adam', 'rmsprop']}\n",
    "grid_search = GridSearchCV(estimator = classifier,\n",
    "                           param_grid = parameters,\n",
    "                           scoring = 'accuracy',\n",
    "                           cv = 10)\n",
    "grid_search = grid_search.fit(X_train,y_train)\n",
    "best_parameters = grid_search.best_params_ \n",
    "best_accuracy = grid_search.best_score_"
   ]
  },
  {
   "cell_type": "code",
   "execution_count": null,
   "metadata": {},
   "outputs": [],
   "source": []
  }
 ],
 "metadata": {
  "kernelspec": {
   "display_name": "Python 3",
   "language": "python",
   "name": "python3"
  },
  "language_info": {
   "codemirror_mode": {
    "name": "ipython",
    "version": 3
   },
   "file_extension": ".py",
   "mimetype": "text/x-python",
   "name": "python",
   "nbconvert_exporter": "python",
   "pygments_lexer": "ipython3",
   "version": "3.7.1"
  }
 },
 "nbformat": 4,
 "nbformat_minor": 4
}
